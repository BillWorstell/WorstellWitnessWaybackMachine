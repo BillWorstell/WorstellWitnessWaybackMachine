{
  "nbformat": 4,
  "nbformat_minor": 0,
  "metadata": {
    "colab": {
      "provenance": []
    },
    "kernelspec": {
      "name": "python3",
      "display_name": "Python 3"
    },
    "language_info": {
      "name": "python"
    }
  },
  "cells": [
    {
      "cell_type": "markdown",
      "source": [
        "1) Mount Drive and define paths"
      ],
      "metadata": {
        "id": "nB26Zsxl0TL8"
      }
    },
    {
      "cell_type": "code",
      "execution_count": 1,
      "metadata": {
        "colab": {
          "base_uri": "https://localhost:8080/"
        },
        "id": "mfPP2m8E0GXA",
        "outputId": "ffb010e2-d803-46df-c3fa-ca9ca45ed4d5"
      },
      "outputs": [
        {
          "output_type": "stream",
          "name": "stdout",
          "text": [
            "Mounted at /content/drive\n",
            "Project dir: /content/drive/MyDrive/WorstellWitnessWaybackMachine\n",
            "Notebooks dir: /content/drive/MyDrive/WorstellWitnessWaybackMachine/Notebooks\n"
          ]
        }
      ],
      "source": [
        "# Mount Drive\n",
        "from google.colab import drive\n",
        "drive.mount('/content/drive')\n",
        "\n",
        "# === Update only if your folder name is different ===\n",
        "PROJECT_DIR   = \"/content/drive/MyDrive/WorstellWitnessWaybackMachine\"\n",
        "NOTEBOOKS_DIR = f\"{PROJECT_DIR}/Notebooks\"\n",
        "\n",
        "print(\"Project dir:\", PROJECT_DIR)\n",
        "print(\"Notebooks dir:\", NOTEBOOKS_DIR)\n"
      ]
    }
  ]
}