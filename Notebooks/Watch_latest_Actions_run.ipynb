{
  "nbformat": 4,
  "nbformat_minor": 0,
  "metadata": {
    "colab": {
      "provenance": []
    },
    "kernelspec": {
      "name": "python3",
      "display_name": "Python 3"
    },
    "language_info": {
      "name": "python"
    }
  },
  "cells": [
    {
      "cell_type": "markdown",
      "source": [
        "1) Mount Drive and define paths"
      ],
      "metadata": {
        "id": "nB26Zsxl0TL8"
      }
    },
    {
      "cell_type": "code",
      "execution_count": 1,
      "metadata": {
        "colab": {
          "base_uri": "https://localhost:8080/"
        },
        "id": "mfPP2m8E0GXA",
        "outputId": "2aa846fd-a91d-440d-b03e-4160e4b2cf78"
      },
      "outputs": [
        {
          "output_type": "stream",
          "name": "stdout",
          "text": [
            "Mounted at /content/drive\n",
            "Project dir: /content/drive/MyDrive/WorstellWitnessWaybackMachine\n",
            "Notebooks dir: /content/drive/MyDrive/WorstellWitnessWaybackMachine/Notebooks\n"
          ]
        }
      ],
      "source": [
        "# Mount Drive\n",
        "from google.colab import drive\n",
        "drive.mount('/content/drive')\n",
        "\n",
        "# === Update only if your folder name is different ===\n",
        "PROJECT_DIR   = \"/content/drive/MyDrive/WorstellWitnessWaybackMachine\"\n",
        "NOTEBOOKS_DIR = f\"{PROJECT_DIR}/Notebooks\"\n",
        "\n",
        "print(\"Project dir:\", PROJECT_DIR)\n",
        "print(\"Notebooks dir:\", NOTEBOOKS_DIR)\n"
      ]
    },
    {
      "cell_type": "markdown",
      "source": [
        "2) Here’s the tiny “watch latest Actions run + ping the site” cell you can drop into any Colab notebook and run."
      ],
      "metadata": {
        "id": "C8Ek_jc11q49"
      }
    },
    {
      "cell_type": "code",
      "execution_count": 2,
      "metadata": {
        "colab": {
          "base_uri": "https://localhost:8080/"
        },
        "id": "G1rVJus21F51",
        "outputId": "514de762-dc4c-4b4d-aaa2-d96cff218cf2"
      },
      "outputs": [
        {
          "output_type": "stream",
          "name": "stdout",
          "text": [
            "Latest run: https://github.com/BillWorstell/WorstellWitnessWaybackMachine/actions/runs/17929884676\n",
            "Final: completed / success — https://github.com/BillWorstell/WorstellWitnessWaybackMachine/actions/runs/17929884676\n",
            "Pinging https://billworstell.github.io/WorstellWitnessWaybackMachine/ …\n",
            "✅ Site is live!\n"
          ]
        }
      ],
      "source": [
        "# Watch the latest \"Deploy MkDocs site\" run, then ping your Pages URL until it's live\n",
        "\n",
        "GITHUB_USERNAME = \"BillWorstell\"\n",
        "REPO_NAME      = \"WorstellWitnessWaybackMachine\"\n",
        "SITE_URL       = \"https://billworstell.github.io/WorstellWitnessWaybackMachine/\"\n",
        "GH_TOKEN       = \"\"   # optional; paste a classic PAT if you hit API rate limits\n",
        "\n",
        "import time, requests\n",
        "\n",
        "base = f\"https://api.github.com/repos/{GITHUB_USERNAME}/{REPO_NAME}\"\n",
        "\n",
        "def gh_get(path):\n",
        "    headers = {\"Accept\": \"application/vnd.github+json\"}\n",
        "    if GH_TOKEN:\n",
        "        headers[\"Authorization\"] = f\"token {GH_TOKEN}\"\n",
        "    r = requests.get(f\"{base}{path}\", headers=headers, timeout=30)\n",
        "    r.raise_for_status()\n",
        "    return r.json()\n",
        "\n",
        "# 1) Find the workflow by path or name\n",
        "wfs = gh_get(\"/actions/workflows\")\n",
        "wf = next(\n",
        "    (w for w in wfs.get(\"workflows\", [])\n",
        "     if w.get(\"path\") == \".github/workflows/deploy.yml\"\n",
        "        or w.get(\"name\",\"\").lower().startswith(\"deploy mkdocs\")),\n",
        "    None,\n",
        ")\n",
        "if not wf:\n",
        "    raise SystemExit(\"Couldn't find workflow '.github/workflows/deploy.yml'\")\n",
        "\n",
        "# 2) Get the latest run on main\n",
        "runs = gh_get(f\"/actions/workflows/{wf['id']}/runs?branch=main&per_page=1\").get(\"workflow_runs\", [])\n",
        "if not runs:\n",
        "    raise SystemExit(\"No runs found yet — push a change or click 'Run workflow' in Actions.\")\n",
        "\n",
        "run = runs[0]\n",
        "sid, url = run[\"id\"], run[\"html_url\"]\n",
        "print(f\"Latest run: {url}\")\n",
        "\n",
        "# 3) Poll until the run completes (up to ~4 minutes)\n",
        "tries = 48  # 48 * 5s = 4 minutes\n",
        "while run[\"status\"] != \"completed\" and tries > 0:\n",
        "    time.sleep(5)\n",
        "    run = gh_get(f\"/actions/runs/{sid}\")\n",
        "    print(f\"… status: {run['status']} / conclusion: {run.get('conclusion')}\")\n",
        "\n",
        "print(f\"Final: {run['status']} / {run.get('conclusion')} — {url}\")\n",
        "\n",
        "# 4) If success, ping the Pages site until HTTP 200 (up to ~2 minutes)\n",
        "if run.get(\"conclusion\") == \"success\":\n",
        "    print(f\"Pinging {SITE_URL} …\")\n",
        "    live = False\n",
        "    for i in range(24):        # 24 * 5s = 2 minutes\n",
        "        try:\n",
        "            r = requests.get(SITE_URL, timeout=10)\n",
        "            if r.ok:\n",
        "                live = True\n",
        "                print(\"✅ Site is live!\")\n",
        "                break\n",
        "            else:\n",
        "                print(f\"   (Attempt {i+1}/24) HTTP {r.status_code}\")\n",
        "        except Exception as e:\n",
        "            print(f\"   (Attempt {i+1}/24) error: {e}\")\n",
        "        time.sleep(5)\n",
        "    if not live:\n",
        "        print(\"⚠️ Site not live yet — give it another minute and refresh.\")\n",
        "else:\n",
        "    print(\"❌ Build did not succeed. Open the run URL above and check the failing step.\")\n"
      ]
    }
  ]
}