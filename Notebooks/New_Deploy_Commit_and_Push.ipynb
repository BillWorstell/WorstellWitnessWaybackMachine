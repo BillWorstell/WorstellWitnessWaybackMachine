{
  "nbformat": 4,
  "nbformat_minor": 0,
  "metadata": {
    "colab": {
      "provenance": []
    },
    "kernelspec": {
      "name": "python3",
      "display_name": "Python 3"
    },
    "language_info": {
      "name": "python"
    }
  },
  "cells": [
    {
      "cell_type": "markdown",
      "source": [
        "Cell 1 — Mount Drive"
      ],
      "metadata": {
        "id": "s2i1yOPPbBI5"
      }
    },
    {
      "cell_type": "code",
      "source": [
        "# 1) Mount Drive\n",
        "from google.colab import drive\n",
        "drive.mount('/content/drive')"
      ],
      "metadata": {
        "colab": {
          "base_uri": "https://localhost:8080/"
        },
        "id": "k0UBza8TbELJ",
        "outputId": "a073a51f-2b35-4332-d4b1-0daff916326d"
      },
      "execution_count": 1,
      "outputs": [
        {
          "output_type": "stream",
          "name": "stdout",
          "text": [
            "Mounted at /content/drive\n"
          ]
        }
      ]
    },
    {
      "cell_type": "markdown",
      "source": [
        "Rather than wrestling with token/branch-protection quirks, the cleanest path is to switch to the official GitHub Pages pipeline (no push to gh-pages; it uploads an artifact and deploys it).\n",
        "\n",
        "What changes\n",
        "\n",
        "Use actions/upload-pages-artifact + actions/deploy-pages.\n",
        "\n",
        "Give the workflow pages: write and id-token: write permissions.\n",
        "\n",
        "In your repo Settings → Pages, set Source = GitHub Actions (not Branch).\n",
        "\n",
        "One-cell patch: write the new workflow, commit, push\n",
        "\n",
        "Paste this in a new Colab cell in your repo folder and run it."
      ],
      "metadata": {
        "id": "Ca9m4hZ4aN3I"
      }
    },
    {
      "cell_type": "code",
      "source": [
        "# Replace deploy workflow with GitHub Pages \"deploy-pages\" pipeline\n",
        "PROJECT_DIR = \"/content/drive/MyDrive/WorstellWitnessWaybackMachine\"\n",
        "\n",
        "from pathlib import Path\n",
        "import textwrap, subprocess, os\n",
        "os.chdir(PROJECT_DIR)\n",
        "\n",
        "wf = textwrap.dedent(\"\"\"\n",
        "name: Deploy MkDocs site\n",
        "\n",
        "on:\n",
        "  push:\n",
        "    branches: [ \"main\" ]\n",
        "  workflow_dispatch:\n",
        "\n",
        "permissions:\n",
        "  contents: read\n",
        "  pages: write\n",
        "  id-token: write\n",
        "\n",
        "concurrency:\n",
        "  group: \"pages\"\n",
        "  cancel-in-progress: true\n",
        "\n",
        "jobs:\n",
        "  build:\n",
        "    runs-on: ubuntu-latest\n",
        "    steps:\n",
        "      - uses: actions/checkout@v4\n",
        "      - uses: actions/setup-python@v5\n",
        "        with:\n",
        "          python-version: '3.x'\n",
        "      - name: Install & build\n",
        "        run: |\n",
        "          python -m pip install --upgrade pip\n",
        "          pip install mkdocs mkdocs-material\n",
        "          mkdocs build --strict --site-dir site\n",
        "      - name: Upload Pages artifact\n",
        "        uses: actions/upload-pages-artifact@v3\n",
        "        with:\n",
        "          path: site\n",
        "\n",
        "  deploy:\n",
        "    environment:\n",
        "      name: github-pages\n",
        "      url: ${{ steps.deploy.outputs.page_url }}\n",
        "    needs: build\n",
        "    runs-on: ubuntu-latest\n",
        "    steps:\n",
        "      - name: Deploy to GitHub Pages\n",
        "        id: deploy\n",
        "        uses: actions/deploy-pages@v4\n",
        "\"\"\").strip()\n",
        "\n",
        "Path(\".github/workflows\").mkdir(parents=True, exist_ok=True)\n",
        "Path(\".github/workflows/deploy.yml\").write_text(wf, encoding=\"utf-8\")\n",
        "\n",
        "def sh(cmd):\n",
        "    print(\"$\", cmd);\n",
        "    return subprocess.call(cmd, shell=True)\n",
        "\n",
        "sh('git add .github/workflows/deploy.yml')\n",
        "sh('git commit -m \"Switch to official GitHub Pages deploy workflow\" || true')\n",
        "sh('git push -u origin main')\n",
        "print(\"✅ Workflow pushed. Now ensure Settings → Pages → Source = GitHub Actions.\")"
      ],
      "metadata": {
        "colab": {
          "base_uri": "https://localhost:8080/"
        },
        "id": "kCgw9938_ASq",
        "outputId": "eab89d05-ca2e-4db4-d97e-cf9cc378865f"
      },
      "execution_count": 2,
      "outputs": [
        {
          "output_type": "stream",
          "name": "stdout",
          "text": [
            "$ git add .github/workflows/deploy.yml\n",
            "$ git commit -m \"Switch to official GitHub Pages deploy workflow\" || true\n",
            "$ git push -u origin main\n",
            "✅ Workflow pushed. Now ensure Settings → Pages → Source = GitHub Actions.\n"
          ]
        }
      ]
    },
    {
      "cell_type": "markdown",
      "source": [
        "Then\n",
        "\n",
        "In GitHub: Settings → Pages → Source = GitHub Actions.\n",
        "\n",
        "Push any change (or re-run the workflow from Actions) → it should build and deploy without touching gh-pages.\n",
        "\n",
        "Your site URL stays the same: https://BillWorstell.github.io/WorstellWitnessWaybackMachine/."
      ],
      "metadata": {
        "id": "G_qWYyvn_Myb"
      }
    }
  ]
}